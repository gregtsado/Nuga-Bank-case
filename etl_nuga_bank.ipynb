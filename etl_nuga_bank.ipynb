{
 "cells": [
  {
   "cell_type": "code",
   "execution_count": 1,
   "metadata": {},
   "outputs": [],
   "source": [
    "from pyspark.sql import SparkSession\n",
    "import pandas as pd\n",
    "from sqlalchemy import create_engine\n",
    "from pyspark.sql.functions import monotonically_increasing_id\n",
    "from dotenv import load_dotenv\n",
    "import os\n",
    " "
   ]
  },
  {
   "cell_type": "code",
   "execution_count": 2,
   "metadata": {},
   "outputs": [],
   "source": [
    "spark = SparkSession.builder.appName('NugaBankETL').getOrCreate()"
   ]
  },
  {
   "cell_type": "code",
   "execution_count": 3,
   "metadata": {},
   "outputs": [
    {
     "data": {
      "text/html": [
       "\n",
       "            <div>\n",
       "                <p><b>SparkSession - in-memory</b></p>\n",
       "                \n",
       "        <div>\n",
       "            <p><b>SparkContext</b></p>\n",
       "\n",
       "            <p><a href=\"http://host.docker.internal:4040\">Spark UI</a></p>\n",
       "\n",
       "            <dl>\n",
       "              <dt>Version</dt>\n",
       "                <dd><code>v3.5.1</code></dd>\n",
       "              <dt>Master</dt>\n",
       "                <dd><code>local[*]</code></dd>\n",
       "              <dt>AppName</dt>\n",
       "                <dd><code>NugaBankETL</code></dd>\n",
       "            </dl>\n",
       "        </div>\n",
       "        \n",
       "            </div>\n",
       "        "
      ],
      "text/plain": [
       "<pyspark.sql.session.SparkSession at 0x1a6ae036490>"
      ]
     },
     "execution_count": 3,
     "metadata": {},
     "output_type": "execute_result"
    }
   ],
   "source": [
    "spark"
   ]
  },
  {
   "cell_type": "code",
   "execution_count": 4,
   "metadata": {},
   "outputs": [],
   "source": [
    "nuga_bank_df =spark.read.csv(r'dataset\\nuga_bank_transactions.csv', header= True, inferSchema=True)"
   ]
  },
  {
   "cell_type": "code",
   "execution_count": 5,
   "metadata": {},
   "outputs": [
    {
     "name": "stdout",
     "output_type": "stream",
     "text": [
      "root\n",
      " |-- Transaction_Date: timestamp (nullable = true)\n",
      " |-- Amount: double (nullable = true)\n",
      " |-- Transaction_Type: string (nullable = true)\n",
      " |-- Customer_Name: string (nullable = true)\n",
      " |-- Customer_Address: string (nullable = true)\n",
      " |-- Customer_City: string (nullable = true)\n",
      " |-- Customer_State: string (nullable = true)\n",
      " |-- Customer_Country: string (nullable = true)\n",
      " |-- Company: string (nullable = true)\n",
      " |-- Job_Title: string (nullable = true)\n",
      " |-- Email: string (nullable = true)\n",
      " |-- Phone_Number: string (nullable = true)\n",
      " |-- Credit_Card_Number: long (nullable = true)\n",
      " |-- IBAN: string (nullable = true)\n",
      " |-- Currency_Code: string (nullable = true)\n",
      " |-- Random_Number: double (nullable = true)\n",
      " |-- Category: string (nullable = true)\n",
      " |-- Group: string (nullable = true)\n",
      " |-- Is_Active: string (nullable = true)\n",
      " |-- Last_Updated: timestamp (nullable = true)\n",
      " |-- Description: string (nullable = true)\n",
      " |-- Gender: string (nullable = true)\n",
      " |-- Marital_Status: string (nullable = true)\n",
      "\n"
     ]
    }
   ],
   "source": [
    "nuga_bank_df.printSchema()"
   ]
  },
  {
   "cell_type": "code",
   "execution_count": 6,
   "metadata": {},
   "outputs": [
    {
     "data": {
      "text/plain": [
       "1000000"
      ]
     },
     "execution_count": 6,
     "metadata": {},
     "output_type": "execute_result"
    }
   ],
   "source": [
    "nuga_bank_df.count()"
   ]
  },
  {
   "cell_type": "code",
   "execution_count": 7,
   "metadata": {},
   "outputs": [
    {
     "data": {
      "text/plain": [
       "23"
      ]
     },
     "execution_count": 7,
     "metadata": {},
     "output_type": "execute_result"
    }
   ],
   "source": [
    "len(nuga_bank_df.columns)"
   ]
  },
  {
   "cell_type": "code",
   "execution_count": 11,
   "metadata": {},
   "outputs": [
    {
     "name": "stdout",
     "output_type": "stream",
     "text": [
      "Transaction_Date Nulls 0\n",
      "Amount Nulls 0\n",
      "Transaction_Type Nulls 0\n",
      "Customer_Name Nulls 100425\n",
      "Customer_Address Nulls 100087\n",
      "Customer_City Nulls 100034\n",
      "Customer_State Nulls 100009\n",
      "Customer_Country Nulls 100672\n",
      "Company Nulls 100295\n",
      "Job_Title Nulls 99924\n",
      "Email Nulls 100043\n",
      "Phone_Number Nulls 100524\n",
      "Credit_Card_Number Nulls 100085\n",
      "IBAN Nulls 100300\n",
      "Currency_Code Nulls 99342\n",
      "Random_Number Nulls 99913\n",
      "Category Nulls 100332\n",
      "Group Nulls 100209\n",
      "Is_Active Nulls 100259\n",
      "Last_Updated Nulls 100321\n",
      "Description Nulls 100403\n",
      "Gender Nulls 99767\n",
      "Marital_Status Nulls 99904\n"
     ]
    }
   ],
   "source": [
    "for column in nuga_bank_df.columns:\n",
    "    print(column, 'Nulls', nuga_bank_df.filter(nuga_bank_df[column].isNull()).count())"
   ]
  },
  {
   "cell_type": "code",
   "execution_count": 12,
   "metadata": {},
   "outputs": [],
   "source": [
    "nuga_bank_df_clean = nuga_bank_df.fillna({\n",
    "    'Customer_Name':'Unknown',\n",
    "    'Customer_Address':'Unknown',\n",
    "    'Customer_City':'Unknown',\n",
    "    'Customer_State':'Unknown',\n",
    "    'Customer_Country':'Unknown',\n",
    "    'Company':'Unknown',\n",
    "    'Job_Title':'Unknown',\n",
    "    'Email':'Unknown',\n",
    "    'Phone_Number':'Unknown',\n",
    "    'Credit_Card_Number': 0,\n",
    "    'IBAN':'Unknown',\n",
    "    'Currency_Code':'Unknown',\n",
    "    'Random_Number':0.0,\n",
    "    'Category':'Unknown',\n",
    "    'Group':'Unknown',\n",
    "    'Is_Active':'Unknown',\n",
    "     'Description':'Unknown',\n",
    "     'Gender':'Unkown',\n",
    "     'Marital_Status':'Unknown'\n",
    "})"
   ]
  },
  {
   "cell_type": "code",
   "execution_count": 14,
   "metadata": {},
   "outputs": [
    {
     "name": "stdout",
     "output_type": "stream",
     "text": [
      "Transaction_Date Nulls 0\n",
      "Amount Nulls 0\n",
      "Transaction_Type Nulls 0\n",
      "Customer_Name Nulls 0\n",
      "Customer_Address Nulls 0\n",
      "Customer_City Nulls 0\n",
      "Customer_State Nulls 0\n",
      "Customer_Country Nulls 0\n",
      "Company Nulls 0\n",
      "Job_Title Nulls 0\n",
      "Email Nulls 0\n",
      "Phone_Number Nulls 0\n",
      "Credit_Card_Number Nulls 0\n",
      "IBAN Nulls 0\n",
      "Currency_Code Nulls 0\n",
      "Random_Number Nulls 0\n",
      "Category Nulls 0\n",
      "Group Nulls 0\n",
      "Is_Active Nulls 0\n",
      "Last_Updated Nulls 100321\n",
      "Description Nulls 0\n",
      "Gender Nulls 0\n",
      "Marital_Status Nulls 0\n"
     ]
    }
   ],
   "source": [
    "for column in nuga_bank_df_clean.columns:\n",
    "    print(column, 'Nulls', nuga_bank_df_clean.filter(nuga_bank_df_clean[column].isNull()).count())\n",
    "    "
   ]
  },
  {
   "cell_type": "code",
   "execution_count": 16,
   "metadata": {},
   "outputs": [],
   "source": [
    "nuga_bank_df_clean = nuga_bank_df_clean.na.drop(subset=['Last_Updated'])"
   ]
  },
  {
   "cell_type": "code",
   "execution_count": 17,
   "metadata": {},
   "outputs": [
    {
     "data": {
      "text/plain": [
       "899679"
      ]
     },
     "execution_count": 17,
     "metadata": {},
     "output_type": "execute_result"
    }
   ],
   "source": [
    "nuga_bank_df_clean.count()"
   ]
  },
  {
   "cell_type": "code",
   "execution_count": 18,
   "metadata": {},
   "outputs": [
    {
     "name": "stdout",
     "output_type": "stream",
     "text": [
      "+-------+------------------+----------------+-------------+--------------------+-------------+--------------+----------------+-------------+------------------+-------------------+--------------------+--------------------+--------------------+-------------+------------------+--------+-------+---------+--------------------+------+--------------+\n",
      "|summary|            Amount|Transaction_Type|Customer_Name|    Customer_Address|Customer_City|Customer_State|Customer_Country|      Company|         Job_Title|              Email|        Phone_Number|  Credit_Card_Number|                IBAN|Currency_Code|     Random_Number|Category|  Group|Is_Active|         Description|Gender|Marital_Status|\n",
      "+-------+------------------+----------------+-------------+--------------------+-------------+--------------+----------------+-------------+------------------+-------------------+--------------------+--------------------+--------------------+-------------+------------------+--------+-------+---------+--------------------+------+--------------+\n",
      "|  count|            899679|          899679|       899679|              899679|       899679|        899679|          899679|       899679|            899679|             899679|              899679|              899679|              899679|       899679|            899679|  899679| 899679|   899679|              899679|899679|        899679|\n",
      "|   mean|505.10367708927134|            NULL|         NULL|                NULL|         NULL|          NULL|            NULL|         NULL|              NULL|               NULL| 6.002851385999521E9|3.409662226750519E17|                NULL|         NULL| 4952.920380491264|    NULL|   NULL|     NULL|                NULL|  NULL|          NULL|\n",
      "| stddev|  285.794534330047|            NULL|         NULL|                NULL|         NULL|          NULL|            NULL|         NULL|              NULL|               NULL|2.3068371038619423E9|1.189655005733002...|                NULL|         NULL|2966.5434011515995|    NULL|   NULL|     NULL|                NULL|  NULL|          NULL|\n",
      "|    min|              10.0|         Deposit| Aaron Abbott|000 Aaron Landing...|    Aaronberg|       Alabama|     Afghanistan| Abbott Group|Academic librarian|            Unknown|       (200)201-4254|                   0|GB02AAAU191993009...|          AED|               0.0|       A|Unknown|       No|A American and to...|Female|      Divorced|\n",
      "|    max|            1000.0|      Withdrawal|    Zoe Young|             Unknown|  Zunigaville|       Wyoming|        Zimbabwe|Zuniga-Wilson|      Youth worker|zzuniga@example.org|             Unknown| 4999984361512569455|             Unknown|          ZWD|            9999.0| Unknown|      Z|      Yes|Yourself young ev...|Unkown|       Unknown|\n",
      "+-------+------------------+----------------+-------------+--------------------+-------------+--------------+----------------+-------------+------------------+-------------------+--------------------+--------------------+--------------------+-------------+------------------+--------+-------+---------+--------------------+------+--------------+\n",
      "\n"
     ]
    }
   ],
   "source": [
    "nuga_bank_df_clean.describe().show()"
   ]
  },
  {
   "cell_type": "markdown",
   "metadata": {},
   "source": [
    "### Transformation"
   ]
  },
  {
   "cell_type": "code",
   "execution_count": 19,
   "metadata": {},
   "outputs": [
    {
     "data": {
      "text/plain": [
       "['Transaction_Date',\n",
       " 'Amount',\n",
       " 'Transaction_Type',\n",
       " 'Customer_Name',\n",
       " 'Customer_Address',\n",
       " 'Customer_City',\n",
       " 'Customer_State',\n",
       " 'Customer_Country',\n",
       " 'Company',\n",
       " 'Job_Title',\n",
       " 'Email',\n",
       " 'Phone_Number',\n",
       " 'Credit_Card_Number',\n",
       " 'IBAN',\n",
       " 'Currency_Code',\n",
       " 'Random_Number',\n",
       " 'Category',\n",
       " 'Group',\n",
       " 'Is_Active',\n",
       " 'Last_Updated',\n",
       " 'Description',\n",
       " 'Gender',\n",
       " 'Marital_Status']"
      ]
     },
     "execution_count": 19,
     "metadata": {},
     "output_type": "execute_result"
    }
   ],
   "source": [
    "nuga_bank_df_clean.columns"
   ]
  },
  {
   "cell_type": "markdown",
   "metadata": {},
   "source": [
    "### Creating Data Models"
   ]
  },
  {
   "cell_type": "code",
   "execution_count": 34,
   "metadata": {},
   "outputs": [],
   "source": [
    "transaction = nuga_bank_df_clean.select('Transaction_Date','Amount','Transaction_Type').distinct()\n",
    "transaction = transaction.withColumn('transaction_id', monotonically_increasing_id())"
   ]
  },
  {
   "cell_type": "code",
   "execution_count": 35,
   "metadata": {},
   "outputs": [],
   "source": [
    "transaction =transaction.select('transaction_id','Transaction_Date','Amount','Transaction_Type')"
   ]
  },
  {
   "cell_type": "code",
   "execution_count": 28,
   "metadata": {},
   "outputs": [
    {
     "name": "stdout",
     "output_type": "stream",
     "text": [
      "+--------------+--------------------+------+----------------+\n",
      "|transaction_id|    Transaction_Date|Amount|Transaction_Type|\n",
      "+--------------+--------------------+------+----------------+\n",
      "|             0|2024-03-23 15:38:...| 34.76|      Withdrawal|\n",
      "|             1|2024-04-22 19:15:...|163.92|      Withdrawal|\n",
      "|             2|2024-04-12 19:46:...|386.32|      Withdrawal|\n",
      "|             3|2024-04-17 15:29:...|407.15|         Deposit|\n",
      "|             4|2024-02-10 01:51:...|161.31|         Deposit|\n",
      "+--------------+--------------------+------+----------------+\n",
      "only showing top 5 rows\n",
      "\n"
     ]
    }
   ],
   "source": [
    "transaction.show(5)"
   ]
  },
  {
   "cell_type": "code",
   "execution_count": 33,
   "metadata": {},
   "outputs": [],
   "source": [
    "customer = nuga_bank_df_clean.select('Customer_Name','Customer_Address', 'Customer_City','Customer_State','Customer_Country','Email','Phone_Number').distinct()\n",
    "customer =customer.withColumn('customer_id', monotonically_increasing_id())\n",
    "customer=customer.select('customer_id','Customer_Name','Customer_Address', 'Customer_City','Customer_State','Customer_Country','Email','Phone_Number')"
   ]
  },
  {
   "cell_type": "code",
   "execution_count": 30,
   "metadata": {},
   "outputs": [
    {
     "name": "stdout",
     "output_type": "stream",
     "text": [
      "+-----------+--------------+--------------------+------------------+--------------+--------------------+--------------------+-------------------+\n",
      "|customer_id| Customer_Name|    Customer_Address|     Customer_City|Customer_State|    Customer_Country|               Email|       Phone_Number|\n",
      "+-----------+--------------+--------------------+------------------+--------------+--------------------+--------------------+-------------------+\n",
      "|          0|    James Neal|54912 Holmes Lodg...| West Keithborough|       Florida|                Togo|             Unknown|  493.720.6609x7545|\n",
      "|          1|   Thomas Long| 1133 Collin Passage|        Joshuabury|   Connecticut|Lao People's Demo...|michellelynch@exa...|      (497)554-3317|\n",
      "|          2|Ashley Shelton|5297 Johnson Port...|       North Maria|    New Jersey|              Bhutan| ljordan@example.org|      (534)769-3072|\n",
      "|          3| James Rosario|56955 Moore Glens...|North Michellefurt|    New Mexico|             Iceland|parkerjames@examp...|+1-447-900-1320x257|\n",
      "|          4|Miguel Leonard|262 Beck Expressw...|           Unknown| West Virginia|             Eritrea| zweaver@example.net|            Unknown|\n",
      "+-----------+--------------+--------------------+------------------+--------------+--------------------+--------------------+-------------------+\n",
      "only showing top 5 rows\n",
      "\n"
     ]
    }
   ],
   "source": [
    "customer.show(5)"
   ]
  },
  {
   "cell_type": "code",
   "execution_count": 32,
   "metadata": {},
   "outputs": [
    {
     "name": "stdout",
     "output_type": "stream",
     "text": [
      "+-----------+--------------------+--------------------+------+--------------+\n",
      "|employee_id|             Company|           Job_Title|Gender|Marital_Status|\n",
      "+-----------+--------------------+--------------------+------+--------------+\n",
      "|          0|         Price Group|             Unknown|  Male|        Single|\n",
      "|          1|Rhodes, King and ...| Trade mark attorney|  Male|       Unknown|\n",
      "|          2|Schmidt, Morgan a...|     Engineer, water|Female|        Single|\n",
      "|          3|       Johnson Group|  Forensic scientist|  Male|       Unknown|\n",
      "|          4|      Henry and Sons|Engineer, civil (...|Female|       Married|\n",
      "+-----------+--------------------+--------------------+------+--------------+\n",
      "only showing top 5 rows\n",
      "\n"
     ]
    }
   ],
   "source": [
    "employee = nuga_bank_df_clean.select('Company','Job_Title','Gender','Marital_Status').distinct()\n",
    "\n",
    "employee =employee.withColumn('employee_id', monotonically_increasing_id())\n",
    "employee=employee.select('employee_id','Company','Job_Title','Gender','Marital_Status')\n",
    "employee.show(5)"
   ]
  },
  {
   "cell_type": "code",
   "execution_count": 36,
   "metadata": {},
   "outputs": [],
   "source": [
    "fact_table = nuga_bank_df_clean.join(customer,['Customer_Name','Customer_Address', 'Customer_City','Customer_State','Customer_Country','Email','Phone_Number'], 'left')\\\n",
    "                                .join(transaction, ['Transaction_Date','Amount','Transaction_Type'],'left')\\\n",
    "                                    .join(employee,['Company','Job_Title','Gender','Marital_Status'])\\\n",
    "                                        .select('transaction_id','customer_id','employee_id','Credit_Card_Number','IBAN','Currency_Code','Random_Number','Category','Group','Is_Active','Last_Updated','Description')"
   ]
  },
  {
   "cell_type": "code",
   "execution_count": 41,
   "metadata": {},
   "outputs": [
    {
     "name": "stdout",
     "output_type": "stream",
     "text": [
      "+--------------+-----------+-----------+------------------+--------------------+-------------+-------------+--------+-------+---------+--------------------+--------------------+\n",
      "|transaction_id|customer_id|employee_id|Credit_Card_Number|                IBAN|Currency_Code|Random_Number|Category|  Group|Is_Active|        Last_Updated|         Description|\n",
      "+--------------+-----------+-----------+------------------+--------------------+-------------+-------------+--------+-------+---------+--------------------+--------------------+\n",
      "|    8589976472| 8589987406|      44772|  3518317232148905|GB65HEYL937620470...|          RSD|       5419.0|       D|      X|       No|2023-11-23 03:03:...|Enjoy interview c...|\n",
      "|   51539626282|25769830373|      13811|      501840097544|GB38LHXK416865631...|          KZT|       5100.0| Unknown|      X|      Yes|2023-05-25 23:02:...|             Unknown|\n",
      "|   17179953513| 8590030383|      83082|  4399041019463442|GB10ALQO471429631...|          ZWD|       1743.0| Unknown|Unknown|       No|2020-09-30 23:58:...|Air section envir...|\n",
      "|   51539639369|25769838283|      27328|   349642907887383|GB40LQGI084577261...|          CUP|          0.0| Unknown|Unknown|       No|2021-09-08 09:32:...|Follow room produ...|\n",
      "|         41908|42949705825|      26850|     4847169673670|GB12HJVF402077840...|          CDF|       3397.0|       B|      Y|  Unknown|2020-04-11 09:19:...|Month market radi...|\n",
      "|   34359741348|25769808035|      18355|  4715724901135502|GB84WBVJ654097372...|          BZD|       4761.0|       A|Unknown|       No|2023-05-10 14:30:...|             Unknown|\n",
      "|   42949725371|34359791477|      40745|  4422600691851942|GB69OEFV133918275...|          KPW|       1104.0|       D|Unknown|       No|2022-04-30 05:44:...|Work sense think ...|\n",
      "|   34359740402|25769816623|       3718|  4665927642161097|GB83HNRH541307074...|          PAB|       4773.0|       A|      X|      Yes|2020-11-02 07:50:...|Window piece usua...|\n",
      "|   17179972209|25769904024|      93560|      502081659265|GB18GAFZ679160175...|          UZS|       9046.0|       D|      Z|       No|2022-07-16 14:30:...|             Unknown|\n",
      "|   60129562354|17179885482|      14902|  2289319769944812|GB90TYNN849648394...|          ISK|       3862.0|       A|      Y|  Unknown|2020-11-22 12:54:...|Person task hundr...|\n",
      "|   34359824122|34359835825|      84560|  4378543517270570|GB58DVHX856112089...|          BDT|       2733.0|       C|      Z|       No|2020-01-15 01:02:...|Shake music need ...|\n",
      "|   17179950070| 8590014156|      74543|  4591934004681646|GB49OXTP575259508...|          JMD|       6439.0|       C|      X|       No|2023-12-23 22:34:...|Economic billion ...|\n",
      "|   34359790797|      53194|      47390|  2363340080727016|GB91VZGG009621730...|      Unknown|       5690.0|       A|      X|      Yes|2021-09-30 21:48:...|Black western per...|\n",
      "|   42949729423|34359783684|      47476|    30589972779967|GB06PIWB448801239...|          LYD|       8789.0|       D|      Y|      Yes|2022-05-24 09:25:...|             Unknown|\n",
      "|   60129637550|25769887231|      68251|  3538314297664583|GB26HOZV604775445...|          HTG|       9812.0|       B|      X|       No|2023-01-18 13:28:...|Claim goal range ...|\n",
      "|   42949685762| 8589941615|       2865|     4651792942878|GB45SESQ240845444...|          LAK|       5930.0|       B|      Z|       No|2020-11-07 12:28:...|Open become act o...|\n",
      "|   42949718824|25769853762|      40945|   180086208502352|GB70ZPEE629031759...|          IDR|       5775.0|       B|      Z|  Unknown|2023-04-27 11:35:...|Civil commercial ...|\n",
      "|   51539644889|34359780100|      30421|                 0|GB91IMGQ423772302...|          TVD|       6573.0|       C|      X|  Unknown|2023-04-28 18:36:...|His place arrive ...|\n",
      "|   60129558229|17179874512|      10514|    30124585962444|GB27ICTD089728325...|          PKR|       9551.0|       D|      Y|      Yes|2020-01-28 09:32:...|Class later mind ...|\n",
      "|         14145|42949691252|      23623|   341311164963513|GB48KGZY122762837...|          RWF|       7891.0|       A|Unknown|       No|2023-09-06 10:42:...|Need risk early p...|\n",
      "+--------------+-----------+-----------+------------------+--------------------+-------------+-------------+--------+-------+---------+--------------------+--------------------+\n",
      "only showing top 20 rows\n",
      "\n"
     ]
    }
   ],
   "source": [
    "fact_table.show()"
   ]
  },
  {
   "cell_type": "code",
   "execution_count": null,
   "metadata": {},
   "outputs": [],
   "source": [
    "# save to parquet\n",
    "transaction.write.mode('overwrite').parquet(r'dataset/transaction')\n",
    "customer.write.mode('overwrite').parquet(r'dataset/customer')\n",
    "employee.write.mode('overwrite').parquet(r'dataset/employee')\n",
    "fact_table.write.mode('overwrite').parquet(r'dataset/tfact_table')"
   ]
  },
  {
   "cell_type": "code",
   "execution_count": null,
   "metadata": {},
   "outputs": [],
   "source": [
    "transaction.repartition(1).write.mode('overwrite').option('header','true').csv(r'dataset/transaction')\n",
    "customer.repartition(1).write.mode('overwrite').option('header','true').csv(r'dataset/customer')\n",
    "employee.repartition(1).write.mode('overwrite').option('header','true').csv(r'dataset/employee')\n",
    "fact_table.repartition(1).write.mode('overwrite').option('header','true').csv(r'dataset/fact_table')"
   ]
  },
  {
   "cell_type": "markdown",
   "metadata": {},
   "source": [
    "\n",
    "### Loading Data in Postgres"
   ]
  },
  {
   "cell_type": "code",
   "execution_count": null,
   "metadata": {},
   "outputs": [],
   "source": [
    "# First converting tables in pandas df\n",
    "transaction_pd_df = transaction.toPandas()\n",
    "customer_pd_df = customer.toPandas()\n",
    "employee_pd_df = employee.toPandas()\n",
    "fact_table_pd_df = fact_table.toPandas()"
   ]
  },
  {
   "cell_type": "code",
   "execution_count": 8,
   "metadata": {},
   "outputs": [],
   "source": [
    "transaction_pd_df = pd.read_csv('dataset/transaction.csv')\n",
    "customer_pd_df = pd.read_csv('dataset/customer.csv')\n",
    "employee_pd_df = pd.read_csv('dataset/employee.csv')\n",
    "fact_table_pd_df = pd.read_csv('dataset/fact_table.csv')"
   ]
  },
  {
   "cell_type": "code",
   "execution_count": 5,
   "metadata": {},
   "outputs": [
    {
     "data": {
      "text/html": [
       "<div>\n",
       "<style scoped>\n",
       "    .dataframe tbody tr th:only-of-type {\n",
       "        vertical-align: middle;\n",
       "    }\n",
       "\n",
       "    .dataframe tbody tr th {\n",
       "        vertical-align: top;\n",
       "    }\n",
       "\n",
       "    .dataframe thead th {\n",
       "        text-align: right;\n",
       "    }\n",
       "</style>\n",
       "<table border=\"1\" class=\"dataframe\">\n",
       "  <thead>\n",
       "    <tr style=\"text-align: right;\">\n",
       "      <th></th>\n",
       "      <th>customer_id</th>\n",
       "      <th>Customer_Name</th>\n",
       "      <th>Customer_Address</th>\n",
       "      <th>Customer_City</th>\n",
       "      <th>Customer_State</th>\n",
       "      <th>Customer_Country</th>\n",
       "      <th>Email</th>\n",
       "      <th>Phone_Number</th>\n",
       "    </tr>\n",
       "  </thead>\n",
       "  <tbody>\n",
       "    <tr>\n",
       "      <th>0</th>\n",
       "      <td>0</td>\n",
       "      <td>Miguel Leonard</td>\n",
       "      <td>262 Beck Expressway Suite 504</td>\n",
       "      <td>Unknown</td>\n",
       "      <td>West Virginia</td>\n",
       "      <td>Eritrea</td>\n",
       "      <td>zweaver@example.net</td>\n",
       "      <td>Unknown</td>\n",
       "    </tr>\n",
       "    <tr>\n",
       "      <th>1</th>\n",
       "      <td>1</td>\n",
       "      <td>Unknown</td>\n",
       "      <td>Unknown</td>\n",
       "      <td>Evanchester</td>\n",
       "      <td>Oregon</td>\n",
       "      <td>Uruguay</td>\n",
       "      <td>Unknown</td>\n",
       "      <td>(384)778-9942x91236</td>\n",
       "    </tr>\n",
       "    <tr>\n",
       "      <th>2</th>\n",
       "      <td>2</td>\n",
       "      <td>Michael Murphy</td>\n",
       "      <td>894 Williams Ridges Apt. 635</td>\n",
       "      <td>Dominguezview</td>\n",
       "      <td>New York</td>\n",
       "      <td>Sweden</td>\n",
       "      <td>kristinstanley@example.com</td>\n",
       "      <td>+1-693-739-2204x8851</td>\n",
       "    </tr>\n",
       "    <tr>\n",
       "      <th>3</th>\n",
       "      <td>3</td>\n",
       "      <td>Tina Gutierrez</td>\n",
       "      <td>415 Taylor Knoll</td>\n",
       "      <td>Donnastad</td>\n",
       "      <td>South Carolina</td>\n",
       "      <td>Unknown</td>\n",
       "      <td>sarabrooks@example.com</td>\n",
       "      <td>623-933-0431x87174</td>\n",
       "    </tr>\n",
       "    <tr>\n",
       "      <th>4</th>\n",
       "      <td>4</td>\n",
       "      <td>Kylie Adkins</td>\n",
       "      <td>435 Nicole Curve</td>\n",
       "      <td>Unknown</td>\n",
       "      <td>Louisiana</td>\n",
       "      <td>Unknown</td>\n",
       "      <td>davisronald@example.net</td>\n",
       "      <td>(404)814-4457x1451</td>\n",
       "    </tr>\n",
       "  </tbody>\n",
       "</table>\n",
       "</div>"
      ],
      "text/plain": [
       "   customer_id   Customer_Name               Customer_Address  Customer_City  \\\n",
       "0            0  Miguel Leonard  262 Beck Expressway Suite 504        Unknown   \n",
       "1            1         Unknown                        Unknown    Evanchester   \n",
       "2            2  Michael Murphy   894 Williams Ridges Apt. 635  Dominguezview   \n",
       "3            3  Tina Gutierrez               415 Taylor Knoll      Donnastad   \n",
       "4            4    Kylie Adkins               435 Nicole Curve        Unknown   \n",
       "\n",
       "   Customer_State Customer_Country                       Email  \\\n",
       "0   West Virginia          Eritrea         zweaver@example.net   \n",
       "1          Oregon          Uruguay                     Unknown   \n",
       "2        New York           Sweden  kristinstanley@example.com   \n",
       "3  South Carolina          Unknown      sarabrooks@example.com   \n",
       "4       Louisiana          Unknown     davisronald@example.net   \n",
       "\n",
       "           Phone_Number  \n",
       "0               Unknown  \n",
       "1   (384)778-9942x91236  \n",
       "2  +1-693-739-2204x8851  \n",
       "3    623-933-0431x87174  \n",
       "4    (404)814-4457x1451  "
      ]
     },
     "execution_count": 5,
     "metadata": {},
     "output_type": "execute_result"
    }
   ],
   "source": [
    "transaction_pd_df.head()"
   ]
  },
  {
   "cell_type": "code",
   "execution_count": null,
   "metadata": {},
   "outputs": [],
   "source": [
    "load_dotenv(override=True)"
   ]
  },
  {
   "cell_type": "code",
   "execution_count": 9,
   "metadata": {},
   "outputs": [
    {
     "name": "stdout",
     "output_type": "stream",
     "text": [
      "Datasets successfully loaded\n"
     ]
    }
   ],
   "source": [
    "db_params ={\n",
    "    'username' : os.getenv('username'),\n",
    "    'password': os.getenv('password'),\n",
    "    'host':os.getenv('host'),\n",
    "    'port':os.getenv('port'),\n",
    "    'database': os.getenv('database')\n",
    "}\n",
    "\n",
    "db_url = f\"postgresql://{db_params['username']}:{db_params['password']}@{db_params['host']}:{db_params['port']}/{db_params['database']}\"\n",
    "\n",
    "engine = create_engine(db_url)\n",
    "\n",
    "with engine.connect() as connection:\n",
    "    transaction_pd_df.to_sql('transaction', connection, index=False, if_exists='replace')\n",
    "    transaction_pd_df.to_sql('customer', connection, index=False, if_exists='replace')\n",
    "    transaction_pd_df.to_sql('employee', connection, index=False, if_exists='replace')\n",
    "    transaction_pd_df.to_sql('fact_table', connection, index=False, if_exists='replace')\n",
    "    \n",
    "print('Datasets successfully loaded')"
   ]
  }
 ],
 "metadata": {
  "kernelspec": {
   "display_name": "nugabankenv",
   "language": "python",
   "name": "python3"
  },
  "language_info": {
   "codemirror_mode": {
    "name": "ipython",
    "version": 3
   },
   "file_extension": ".py",
   "mimetype": "text/x-python",
   "name": "python",
   "nbconvert_exporter": "python",
   "pygments_lexer": "ipython3",
   "version": "3.9.19"
  }
 },
 "nbformat": 4,
 "nbformat_minor": 2
}
